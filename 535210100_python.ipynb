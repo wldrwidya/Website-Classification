{
 "cells": [
  {
   "cell_type": "code",
   "execution_count": 1,
   "id": "1c4fb71c",
   "metadata": {},
   "outputs": [
    {
     "name": "stderr",
     "output_type": "stream",
     "text": [
      "C:\\Users\\Widya HW\\anaconda3\\lib\\site-packages\\scipy\\__init__.py:146: UserWarning: A NumPy version >=1.16.5 and <1.23.0 is required for this version of SciPy (detected version 1.26.1\n",
      "  warnings.warn(f\"A NumPy version >={np_minversion} and <{np_maxversion}\"\n"
     ]
    }
   ],
   "source": [
    "import pandas as pd\n",
    "import numpy as np\n",
    "import matplotlib.pyplot as plt\n",
    "import seaborn as sns\n",
    "%matplotlib inline\n",
    "import string\n",
    "from nltk.corpus import stopwords\n",
    "from sklearn.metrics import classification_report,confusion_matrix,accuracy_score"
   ]
  },
  {
   "cell_type": "code",
   "execution_count": 2,
   "id": "ae0c72c7",
   "metadata": {},
   "outputs": [
    {
     "data": {
      "text/html": [
       "<div>\n",
       "<style scoped>\n",
       "    .dataframe tbody tr th:only-of-type {\n",
       "        vertical-align: middle;\n",
       "    }\n",
       "\n",
       "    .dataframe tbody tr th {\n",
       "        vertical-align: top;\n",
       "    }\n",
       "\n",
       "    .dataframe thead th {\n",
       "        text-align: right;\n",
       "    }\n",
       "</style>\n",
       "<table border=\"1\" class=\"dataframe\">\n",
       "  <thead>\n",
       "    <tr style=\"text-align: right;\">\n",
       "      <th></th>\n",
       "      <th>Unnamed: 0</th>\n",
       "      <th>website_url</th>\n",
       "      <th>cleaned_website_text</th>\n",
       "      <th>Category</th>\n",
       "    </tr>\n",
       "  </thead>\n",
       "  <tbody>\n",
       "    <tr>\n",
       "      <th>0</th>\n",
       "      <td>0</td>\n",
       "      <td>https://www.booking.com/index.html?aid=1743217</td>\n",
       "      <td>official site good hotel accommodation big sav...</td>\n",
       "      <td>Travel</td>\n",
       "    </tr>\n",
       "    <tr>\n",
       "      <th>1</th>\n",
       "      <td>1</td>\n",
       "      <td>https://travelsites.com/expedia/</td>\n",
       "      <td>expedia hotel book sites like use vacation wor...</td>\n",
       "      <td>Travel</td>\n",
       "    </tr>\n",
       "    <tr>\n",
       "      <th>2</th>\n",
       "      <td>2</td>\n",
       "      <td>https://travelsites.com/tripadvisor/</td>\n",
       "      <td>tripadvisor hotel book sites like previously d...</td>\n",
       "      <td>Travel</td>\n",
       "    </tr>\n",
       "    <tr>\n",
       "      <th>3</th>\n",
       "      <td>3</td>\n",
       "      <td>https://www.momondo.in/?ispredir=true</td>\n",
       "      <td>cheap flights search compare flights momondo f...</td>\n",
       "      <td>Travel</td>\n",
       "    </tr>\n",
       "    <tr>\n",
       "      <th>4</th>\n",
       "      <td>4</td>\n",
       "      <td>https://www.ebookers.com/?AFFCID=EBOOKERS-UK.n...</td>\n",
       "      <td>bot create free account create free account si...</td>\n",
       "      <td>Travel</td>\n",
       "    </tr>\n",
       "  </tbody>\n",
       "</table>\n",
       "</div>"
      ],
      "text/plain": [
       "   Unnamed: 0                                        website_url  \\\n",
       "0           0     https://www.booking.com/index.html?aid=1743217   \n",
       "1           1                   https://travelsites.com/expedia/   \n",
       "2           2               https://travelsites.com/tripadvisor/   \n",
       "3           3              https://www.momondo.in/?ispredir=true   \n",
       "4           4  https://www.ebookers.com/?AFFCID=EBOOKERS-UK.n...   \n",
       "\n",
       "                                cleaned_website_text Category  \n",
       "0  official site good hotel accommodation big sav...   Travel  \n",
       "1  expedia hotel book sites like use vacation wor...   Travel  \n",
       "2  tripadvisor hotel book sites like previously d...   Travel  \n",
       "3  cheap flights search compare flights momondo f...   Travel  \n",
       "4  bot create free account create free account si...   Travel  "
      ]
     },
     "execution_count": 2,
     "metadata": {},
     "output_type": "execute_result"
    }
   ],
   "source": [
    "website_df=pd.read_csv('website_classification.csv')\n",
    "website_df.head()"
   ]
  },
  {
   "cell_type": "code",
   "execution_count": 3,
   "id": "269214fd",
   "metadata": {},
   "outputs": [
    {
     "name": "stdout",
     "output_type": "stream",
     "text": [
      "Shape of dataframe: (1408, 4)\n",
      "Columns in dataframe: Index(['Unnamed: 0', 'website_url', 'cleaned_website_text', 'Category'], dtype='object')\n"
     ]
    }
   ],
   "source": [
    "print('Shape of dataframe:',website_df.shape)\n",
    "print('Columns in dataframe:',website_df.columns)"
   ]
  },
  {
   "cell_type": "code",
   "execution_count": 4,
   "id": "e062a7a3",
   "metadata": {},
   "outputs": [
    {
     "data": {
      "text/html": [
       "<div>\n",
       "<style scoped>\n",
       "    .dataframe tbody tr th:only-of-type {\n",
       "        vertical-align: middle;\n",
       "    }\n",
       "\n",
       "    .dataframe tbody tr th {\n",
       "        vertical-align: top;\n",
       "    }\n",
       "\n",
       "    .dataframe thead th {\n",
       "        text-align: right;\n",
       "    }\n",
       "</style>\n",
       "<table border=\"1\" class=\"dataframe\">\n",
       "  <thead>\n",
       "    <tr style=\"text-align: right;\">\n",
       "      <th></th>\n",
       "      <th>website_url</th>\n",
       "      <th>cleaned_website_text</th>\n",
       "      <th>Category</th>\n",
       "    </tr>\n",
       "  </thead>\n",
       "  <tbody>\n",
       "    <tr>\n",
       "      <th>0</th>\n",
       "      <td>https://www.booking.com/index.html?aid=1743217</td>\n",
       "      <td>official site good hotel accommodation big sav...</td>\n",
       "      <td>Travel</td>\n",
       "    </tr>\n",
       "    <tr>\n",
       "      <th>1</th>\n",
       "      <td>https://travelsites.com/expedia/</td>\n",
       "      <td>expedia hotel book sites like use vacation wor...</td>\n",
       "      <td>Travel</td>\n",
       "    </tr>\n",
       "    <tr>\n",
       "      <th>2</th>\n",
       "      <td>https://travelsites.com/tripadvisor/</td>\n",
       "      <td>tripadvisor hotel book sites like previously d...</td>\n",
       "      <td>Travel</td>\n",
       "    </tr>\n",
       "    <tr>\n",
       "      <th>3</th>\n",
       "      <td>https://www.momondo.in/?ispredir=true</td>\n",
       "      <td>cheap flights search compare flights momondo f...</td>\n",
       "      <td>Travel</td>\n",
       "    </tr>\n",
       "    <tr>\n",
       "      <th>4</th>\n",
       "      <td>https://www.ebookers.com/?AFFCID=EBOOKERS-UK.n...</td>\n",
       "      <td>bot create free account create free account si...</td>\n",
       "      <td>Travel</td>\n",
       "    </tr>\n",
       "  </tbody>\n",
       "</table>\n",
       "</div>"
      ],
      "text/plain": [
       "                                         website_url  \\\n",
       "0     https://www.booking.com/index.html?aid=1743217   \n",
       "1                   https://travelsites.com/expedia/   \n",
       "2               https://travelsites.com/tripadvisor/   \n",
       "3              https://www.momondo.in/?ispredir=true   \n",
       "4  https://www.ebookers.com/?AFFCID=EBOOKERS-UK.n...   \n",
       "\n",
       "                                cleaned_website_text Category  \n",
       "0  official site good hotel accommodation big sav...   Travel  \n",
       "1  expedia hotel book sites like use vacation wor...   Travel  \n",
       "2  tripadvisor hotel book sites like previously d...   Travel  \n",
       "3  cheap flights search compare flights momondo f...   Travel  \n",
       "4  bot create free account create free account si...   Travel  "
      ]
     },
     "execution_count": 4,
     "metadata": {},
     "output_type": "execute_result"
    }
   ],
   "source": [
    "website_df.drop('Unnamed: 0',axis=1,inplace=True)   #Dropping the unnecessary column\n",
    "website_df.head()"
   ]
  },
  {
   "cell_type": "code",
   "execution_count": 5,
   "id": "62aa385d",
   "metadata": {},
   "outputs": [
    {
     "data": {
      "text/plain": [
       "website_url             0\n",
       "cleaned_website_text    0\n",
       "Category                0\n",
       "dtype: int64"
      ]
     },
     "execution_count": 5,
     "metadata": {},
     "output_type": "execute_result"
    }
   ],
   "source": [
    "website_df.isnull().sum()   #Checking whether there are any null values."
   ]
  },
  {
   "cell_type": "code",
   "execution_count": 6,
   "id": "20ec27eb",
   "metadata": {},
   "outputs": [
    {
     "data": {
      "text/plain": [
       "Index(['Adult', 'Business/Corporate', 'Computers and Technology', 'E-Commerce',\n",
       "       'Education', 'Food', 'Forums', 'Games', 'Health and Fitness',\n",
       "       'Law and Government', 'News', 'Photography',\n",
       "       'Social Networking and Messaging', 'Sports', 'Streaming Services',\n",
       "       'Travel'],\n",
       "      dtype='object', name='Category')"
      ]
     },
     "execution_count": 6,
     "metadata": {},
     "output_type": "execute_result"
    }
   ],
   "source": [
    "df_a=website_df.groupby('Category').count().sort_values(by='Category',ascending=True)\n",
    "df_a.index"
   ]
  },
  {
   "cell_type": "code",
   "execution_count": 7,
   "id": "84bd6f0f",
   "metadata": {},
   "outputs": [
    {
     "data": {
      "text/html": [
       "<div>\n",
       "<style scoped>\n",
       "    .dataframe tbody tr th:only-of-type {\n",
       "        vertical-align: middle;\n",
       "    }\n",
       "\n",
       "    .dataframe tbody tr th {\n",
       "        vertical-align: top;\n",
       "    }\n",
       "\n",
       "    .dataframe thead th {\n",
       "        text-align: right;\n",
       "    }\n",
       "</style>\n",
       "<table border=\"1\" class=\"dataframe\">\n",
       "  <thead>\n",
       "    <tr style=\"text-align: right;\">\n",
       "      <th></th>\n",
       "      <th>website_url</th>\n",
       "      <th>cleaned_website_text</th>\n",
       "    </tr>\n",
       "    <tr>\n",
       "      <th>Category</th>\n",
       "      <th></th>\n",
       "      <th></th>\n",
       "    </tr>\n",
       "  </thead>\n",
       "  <tbody>\n",
       "    <tr>\n",
       "      <th>Adult</th>\n",
       "      <td>16</td>\n",
       "      <td>16</td>\n",
       "    </tr>\n",
       "    <tr>\n",
       "      <th>Business/Corporate</th>\n",
       "      <td>109</td>\n",
       "      <td>109</td>\n",
       "    </tr>\n",
       "    <tr>\n",
       "      <th>Computers and Technology</th>\n",
       "      <td>93</td>\n",
       "      <td>93</td>\n",
       "    </tr>\n",
       "    <tr>\n",
       "      <th>E-Commerce</th>\n",
       "      <td>102</td>\n",
       "      <td>102</td>\n",
       "    </tr>\n",
       "    <tr>\n",
       "      <th>Education</th>\n",
       "      <td>114</td>\n",
       "      <td>114</td>\n",
       "    </tr>\n",
       "    <tr>\n",
       "      <th>Food</th>\n",
       "      <td>92</td>\n",
       "      <td>92</td>\n",
       "    </tr>\n",
       "    <tr>\n",
       "      <th>Forums</th>\n",
       "      <td>16</td>\n",
       "      <td>16</td>\n",
       "    </tr>\n",
       "    <tr>\n",
       "      <th>Games</th>\n",
       "      <td>98</td>\n",
       "      <td>98</td>\n",
       "    </tr>\n",
       "    <tr>\n",
       "      <th>Health and Fitness</th>\n",
       "      <td>96</td>\n",
       "      <td>96</td>\n",
       "    </tr>\n",
       "    <tr>\n",
       "      <th>Law and Government</th>\n",
       "      <td>84</td>\n",
       "      <td>84</td>\n",
       "    </tr>\n",
       "    <tr>\n",
       "      <th>News</th>\n",
       "      <td>96</td>\n",
       "      <td>96</td>\n",
       "    </tr>\n",
       "    <tr>\n",
       "      <th>Photography</th>\n",
       "      <td>93</td>\n",
       "      <td>93</td>\n",
       "    </tr>\n",
       "    <tr>\n",
       "      <th>Social Networking and Messaging</th>\n",
       "      <td>83</td>\n",
       "      <td>83</td>\n",
       "    </tr>\n",
       "    <tr>\n",
       "      <th>Sports</th>\n",
       "      <td>104</td>\n",
       "      <td>104</td>\n",
       "    </tr>\n",
       "    <tr>\n",
       "      <th>Streaming Services</th>\n",
       "      <td>105</td>\n",
       "      <td>105</td>\n",
       "    </tr>\n",
       "    <tr>\n",
       "      <th>Travel</th>\n",
       "      <td>107</td>\n",
       "      <td>107</td>\n",
       "    </tr>\n",
       "  </tbody>\n",
       "</table>\n",
       "</div>"
      ],
      "text/plain": [
       "                                 website_url  cleaned_website_text\n",
       "Category                                                          \n",
       "Adult                                     16                    16\n",
       "Business/Corporate                       109                   109\n",
       "Computers and Technology                  93                    93\n",
       "E-Commerce                               102                   102\n",
       "Education                                114                   114\n",
       "Food                                      92                    92\n",
       "Forums                                    16                    16\n",
       "Games                                     98                    98\n",
       "Health and Fitness                        96                    96\n",
       "Law and Government                        84                    84\n",
       "News                                      96                    96\n",
       "Photography                               93                    93\n",
       "Social Networking and Messaging           83                    83\n",
       "Sports                                   104                   104\n",
       "Streaming Services                       105                   105\n",
       "Travel                                   107                   107"
      ]
     },
     "execution_count": 7,
     "metadata": {},
     "output_type": "execute_result"
    }
   ],
   "source": [
    "df_a"
   ]
  },
  {
   "cell_type": "code",
   "execution_count": 8,
   "id": "71c97ea2",
   "metadata": {},
   "outputs": [
    {
     "data": {
      "text/plain": [
       "<AxesSubplot:xlabel='count', ylabel='Category'>"
      ]
     },
     "execution_count": 8,
     "metadata": {},
     "output_type": "execute_result"
    },
    {
     "data": {
      "image/png": "[encoded data removed]",
      "text/plain": [
       "<Figure size 432x288 with 1 Axes>"
      ]
     },
     "metadata": {
      "needs_background": "light"
     },
     "output_type": "display_data"
    }
   ],
   "source": [
    "sns.countplot(y=website_df['Category'],order=website_df['Category'].value_counts().index[:16])"
   ]
  },
  {
   "cell_type": "code",
   "execution_count": 9,
   "id": "b5780944",
   "metadata": {},
   "outputs": [
    {
     "name": "stdout",
     "output_type": "stream",
     "text": [
      "Requirement already satisfied: wordcloud in c:\\users\\widya hw\\anaconda3\\lib\\site-packages (1.9.2)\n",
      "Requirement already satisfied: pillow in c:\\users\\widya hw\\anaconda3\\lib\\site-packages (from wordcloud) (8.4.0)\n",
      "Requirement already satisfied: matplotlib in c:\\users\\widya hw\\anaconda3\\lib\\site-packages (from wordcloud) (3.4.3)\n",
      "Requirement already satisfied: numpy>=1.6.1 in c:\\users\\widya hw\\anaconda3\\lib\\site-packages (from wordcloud) (1.26.1)\n",
      "Requirement already satisfied: kiwisolver>=1.0.1 in c:\\users\\widya hw\\anaconda3\\lib\\site-packages (from matplotlib->wordcloud) (1.3.1)\n",
      "Requirement already satisfied: pyparsing>=2.2.1 in c:\\users\\widya hw\\anaconda3\\lib\\site-packages (from matplotlib->wordcloud) (3.0.4)\n",
      "Requirement already satisfied: python-dateutil>=2.7 in c:\\users\\widya hw\\anaconda3\\lib\\site-packages (from matplotlib->wordcloud) (2.8.2)\n",
      "Requirement already satisfied: cycler>=0.10 in c:\\users\\widya hw\\anaconda3\\lib\\site-packages (from matplotlib->wordcloud) (0.10.0)\n",
      "Requirement already satisfied: six in c:\\users\\widya hw\\anaconda3\\lib\\site-packages (from cycler>=0.10->matplotlib->wordcloud) (1.16.0)\n",
      "Note: you may need to restart the kernel to use updated packages.\n"
     ]
    }
   ],
   "source": [
    "pip install wordcloud"
   ]
  },
  {
   "cell_type": "code",
   "execution_count": 12,
   "id": "978bc981",
   "metadata": {},
   "outputs": [
    {
     "name": "stdout",
     "output_type": "stream",
     "text": [
      "Total number of words including all the educational websites:  774075\n",
      "Total number of words including all the Business/Corporate website:  387336\n",
      "Total number of words including all the travel websites:  615047\n",
      "Total number of words including all the Streaming services websites:  385775\n",
      "Total number of words including all the sports websites:  854152\n",
      "Total number of words including all the E-commerce website:  480333\n",
      "Total number of words including all the games websites:  299445\n",
      "Total number of words including all the News websites:  1020091\n",
      "Total number of words including all the Health and Fitness websites:  534152\n",
      "Total number of words including all the Computers and Technology website:  409889\n",
      "Total number of words including all the Photography websites:  401760\n",
      "Total number of words including all the Food websites:  437253\n",
      "Total number of words including all the Law and Government websites:  443235\n",
      "Total number of words including all the Social Networking and Messaging website:  177552\n",
      "Total number of words including all the adult websites:  156038\n",
      "Total number of words including all the Forums websites:  50604\n"
     ]
    },
    {
     "data": {
      "text/html": [
       "<div>\n",
       "<style scoped>\n",
       "    .dataframe tbody tr th:only-of-type {\n",
       "        vertical-align: middle;\n",
       "    }\n",
       "\n",
       "    .dataframe tbody tr th {\n",
       "        vertical-align: top;\n",
       "    }\n",
       "\n",
       "    .dataframe thead th {\n",
       "        text-align: right;\n",
       "    }\n",
       "</style>\n",
       "<table border=\"1\" class=\"dataframe\">\n",
       "  <thead>\n",
       "    <tr style=\"text-align: right;\">\n",
       "      <th></th>\n",
       "      <th>Website category</th>\n",
       "      <th>Sum of length of all the words on the site</th>\n",
       "    </tr>\n",
       "  </thead>\n",
       "  <tbody>\n",
       "    <tr>\n",
       "      <th>2</th>\n",
       "      <td>Travel</td>\n",
       "      <td>1020091</td>\n",
       "    </tr>\n",
       "    <tr>\n",
       "      <th>3</th>\n",
       "      <td>Streaming Services</td>\n",
       "      <td>854152</td>\n",
       "    </tr>\n",
       "    <tr>\n",
       "      <th>0</th>\n",
       "      <td>Education</td>\n",
       "      <td>774075</td>\n",
       "    </tr>\n",
       "    <tr>\n",
       "      <th>13</th>\n",
       "      <td>Social Neworking &amp; Messaging</td>\n",
       "      <td>615047</td>\n",
       "    </tr>\n",
       "    <tr>\n",
       "      <th>4</th>\n",
       "      <td>Sports</td>\n",
       "      <td>534152</td>\n",
       "    </tr>\n",
       "    <tr>\n",
       "      <th>15</th>\n",
       "      <td>Forums</td>\n",
       "      <td>480333</td>\n",
       "    </tr>\n",
       "    <tr>\n",
       "      <th>9</th>\n",
       "      <td>Computer and Technology</td>\n",
       "      <td>443235</td>\n",
       "    </tr>\n",
       "    <tr>\n",
       "      <th>10</th>\n",
       "      <td>Photography</td>\n",
       "      <td>437253</td>\n",
       "    </tr>\n",
       "    <tr>\n",
       "      <th>5</th>\n",
       "      <td>E-Commerce</td>\n",
       "      <td>409889</td>\n",
       "    </tr>\n",
       "    <tr>\n",
       "      <th>7</th>\n",
       "      <td>News</td>\n",
       "      <td>401760</td>\n",
       "    </tr>\n",
       "    <tr>\n",
       "      <th>14</th>\n",
       "      <td>Adult</td>\n",
       "      <td>387336</td>\n",
       "    </tr>\n",
       "    <tr>\n",
       "      <th>12</th>\n",
       "      <td>Law &amp; Government</td>\n",
       "      <td>385775</td>\n",
       "    </tr>\n",
       "    <tr>\n",
       "      <th>11</th>\n",
       "      <td>Food</td>\n",
       "      <td>299445</td>\n",
       "    </tr>\n",
       "    <tr>\n",
       "      <th>8</th>\n",
       "      <td>Health &amp; Fitness</td>\n",
       "      <td>177552</td>\n",
       "    </tr>\n",
       "    <tr>\n",
       "      <th>6</th>\n",
       "      <td>Games</td>\n",
       "      <td>156038</td>\n",
       "    </tr>\n",
       "    <tr>\n",
       "      <th>1</th>\n",
       "      <td>Business/Corporate</td>\n",
       "      <td>50604</td>\n",
       "    </tr>\n",
       "  </tbody>\n",
       "</table>\n",
       "</div>"
      ],
      "text/plain": [
       "                Website category  Sum of length of all the words on the site\n",
       "2                         Travel                                     1020091\n",
       "3             Streaming Services                                      854152\n",
       "0                      Education                                      774075\n",
       "13  Social Neworking & Messaging                                      615047\n",
       "4                         Sports                                      534152\n",
       "15                        Forums                                      480333\n",
       "9        Computer and Technology                                      443235\n",
       "10                   Photography                                      437253\n",
       "5                     E-Commerce                                      409889\n",
       "7                           News                                      401760\n",
       "14                         Adult                                      387336\n",
       "12              Law & Government                                      385775\n",
       "11                          Food                                      299445\n",
       "8               Health & Fitness                                      177552\n",
       "6                          Games                                      156038\n",
       "1             Business/Corporate                                       50604"
      ]
     },
     "execution_count": 12,
     "metadata": {},
     "output_type": "execute_result"
    }
   ],
   "source": [
    "#Education\n",
    "sum_ed=0\n",
    "for i in website_df['Category'].index:\n",
    "    if (website_df['Category'][i]=='Education'):\n",
    "        a= len(website_df['cleaned_website_text'][i])\n",
    "        sum_ed=sum_ed+a\n",
    "print('Total number of words including all the educational websites: ', sum_ed)\n",
    "\n",
    "\n",
    "\n",
    "#Business/Corporate\n",
    "sum_business=0\n",
    "for i in website_df['Category'].index:\n",
    "    if (website_df['Category'][i]=='Business/Corporate'):\n",
    "        a= len(website_df['cleaned_website_text'][i])\n",
    "        sum_business=sum_business+a\n",
    "print('Total number of words including all the Business/Corporate website: ', sum_business)\n",
    "\n",
    "\n",
    "#Travel\n",
    "sum_travel=0\n",
    "for i in website_df['Category'].index:\n",
    "    if (website_df['Category'][i]=='Travel'):\n",
    "        a= len(website_df['cleaned_website_text'][i])\n",
    "        sum_travel=sum_travel+a\n",
    "print('Total number of words including all the travel websites: ', sum_travel)\n",
    "\n",
    "\n",
    "#Streaming services\n",
    "sum_stream=0\n",
    "for i in website_df['Category'].index:\n",
    "    if (website_df['Category'][i]=='Streaming Services'):\n",
    "        a= len(website_df['cleaned_website_text'][i])\n",
    "        sum_stream=sum_stream+a\n",
    "print('Total number of words including all the Streaming services websites: ', sum_stream)\n",
    "\n",
    "\n",
    "#Sports\n",
    "sum_sports=0\n",
    "for i in website_df['Category'].index:\n",
    "    if (website_df['Category'][i]=='Sports'):\n",
    "        a= len(website_df['cleaned_website_text'][i])\n",
    "        sum_sports=sum_sports+a\n",
    "print('Total number of words including all the sports websites: ', sum_sports)\n",
    "\n",
    "\n",
    "#E-commerce\n",
    "sum_commerce=0\n",
    "for i in website_df['Category'].index:\n",
    "    if (website_df['Category'][i]=='E-Commerce'):\n",
    "        a= len(website_df['cleaned_website_text'][i])\n",
    "        sum_commerce=sum_commerce+a\n",
    "print('Total number of words including all the E-commerce website: ', sum_commerce)\n",
    "\n",
    "\n",
    "\n",
    "#Games\n",
    "sum_game=0\n",
    "for i in website_df['Category'].index:\n",
    "    if (website_df['Category'][i]=='Games'):\n",
    "        a= len(website_df['cleaned_website_text'][i])\n",
    "        sum_game=sum_game+a\n",
    "print('Total number of words including all the games websites: ', sum_game)\n",
    "\n",
    "\n",
    "\n",
    "#News\n",
    "sum_news=0\n",
    "for i in website_df['Category'].index:\n",
    "    if (website_df['Category'][i]=='News'):\n",
    "        a= len(website_df['cleaned_website_text'][i])\n",
    "        sum_news=sum_news+a\n",
    "print('Total number of words including all the News websites: ', sum_news)\n",
    "\n",
    "\n",
    "\n",
    "#Health and Fitness\n",
    "sum_health=0\n",
    "for i in website_df['Category'].index:\n",
    "    if (website_df['Category'][i]=='Health and Fitness'):\n",
    "        a= len(website_df['cleaned_website_text'][i])\n",
    "        sum_health=sum_health+a\n",
    "print('Total number of words including all the Health and Fitness websites: ', sum_health)\n",
    "\n",
    "\n",
    "\n",
    "#Computers and Technology\n",
    "sum_comp=0\n",
    "for i in website_df['Category'].index:\n",
    "    if (website_df['Category'][i]=='Computers and Technology'):\n",
    "        a= len(website_df['cleaned_website_text'][i])\n",
    "        sum_comp=sum_comp+a\n",
    "print('Total number of words including all the Computers and Technology website: ', sum_comp)\n",
    "\n",
    "\n",
    "\n",
    "#Photography\n",
    "sum_photog=0\n",
    "for i in website_df['Category'].index:\n",
    "    if (website_df['Category'][i]=='Photography'):\n",
    "        a= len(website_df['cleaned_website_text'][i])\n",
    "        sum_photog=sum_photog+a\n",
    "print('Total number of words including all the Photography websites: ', sum_photog)\n",
    "\n",
    "\n",
    "\n",
    "#Food\n",
    "sum_food=0\n",
    "for i in website_df['Category'].index:\n",
    "    if (website_df['Category'][i]=='Food'):\n",
    "        a= len(website_df['cleaned_website_text'][i])\n",
    "        sum_food=sum_food+a\n",
    "print('Total number of words including all the Food websites: ', sum_food)\n",
    "\n",
    "\n",
    "\n",
    "#Law and Government\n",
    "sum_law=0\n",
    "for i in website_df['Category'].index:\n",
    "    if (website_df['Category'][i]=='Law and Government'):\n",
    "        a= len(website_df['cleaned_website_text'][i])\n",
    "        sum_law=sum_law+a\n",
    "print('Total number of words including all the Law and Government websites: ', sum_law)\n",
    "\n",
    "\n",
    "\n",
    "#Social Networking and Messaging\n",
    "sum_social=0\n",
    "for i in website_df['Category'].index:\n",
    "    if (website_df['Category'][i]=='Social Networking and Messaging'):\n",
    "        a= len(website_df['cleaned_website_text'][i])\n",
    "        sum_social=sum_social+a\n",
    "print('Total number of words including all the Social Networking and Messaging website: ', sum_social)\n",
    "\n",
    "\n",
    "\n",
    "#Adult\n",
    "sum_ad=0\n",
    "for i in website_df['Category'].index:\n",
    "    if (website_df['Category'][i]=='Adult'):\n",
    "        a= len(website_df['cleaned_website_text'][i])\n",
    "        sum_ad=sum_ad+a\n",
    "print('Total number of words including all the adult websites: ', sum_ad)\n",
    "\n",
    "\n",
    "\n",
    "#Forums\n",
    "sum_forum=0\n",
    "for i in website_df['Category'].index:\n",
    "    if (website_df['Category'][i]=='Forums'):\n",
    "        a= len(website_df['cleaned_website_text'][i])\n",
    "        sum_forum=sum_forum+a\n",
    "print('Total number of words including all the Forums websites: ', sum_forum)\n",
    "\n",
    "\n",
    "l=[sum_ed,sum_forum,sum_news,sum_sports,sum_health,sum_comp,sum_ad,sum_photog,sum_social,sum_law,sum_food,sum_game,sum_stream,sum_travel,sum_business,sum_commerce]\n",
    "x1=pd.Series(l).to_frame()\n",
    "x2=pd.Series(['Education','Business/Corporate','Travel','Streaming Services','Sports','E-Commerce','Games','News','Health & Fitness','Computer and Technology','Photography','Food','Law & Government','Social Neworking & Messaging','Adult','Forums']).to_frame()\n",
    "x3=pd.concat([x2,x1],axis=1,ignore_index=True)\n",
    "x3.columns=['Website category','Sum of length of all the words on the site']\n",
    "x3.sort_values(by='Sum of length of all the words on the site',ascending=False)"
   ]
  },
  {
   "cell_type": "code",
   "execution_count": 13,
   "id": "e18d8aa0",
   "metadata": {},
   "outputs": [
    {
     "data": {
      "text/plain": [
       "Text(0.5, 1.0, 'Category wise total number of characters on all the websites (combined)')"
      ]
     },
     "execution_count": 13,
     "metadata": {},
     "output_type": "execute_result"
    },
    {
     "data": {
      "image/png": "[encoded data removed]",
      "text/plain": [
       "<Figure size 1440x432 with 1 Axes>"
      ]
     },
     "metadata": {},
     "output_type": "display_data"
    }
   ],
   "source": [
    "sns.set_style('whitegrid')\n",
    "plt.figure(figsize=(20,6))\n",
    "sns.barplot(x='Website category',y='Sum of length of all the words on the site',data=x3)\n",
    "plt.xticks(rotation=75)\n",
    "plt.title('Category wise total number of characters on all the websites (combined)',fontweight='bold',fontsize=15)"
   ]
  },
  {
   "cell_type": "code",
   "execution_count": 14,
   "id": "aa2ff0e9",
   "metadata": {},
   "outputs": [],
   "source": [
    "#Applying algorithm (Bag of Words model)\n",
    "X=website_df['cleaned_website_text']      \n",
    "y=website_df['Category']  "
   ]
  },
  {
   "cell_type": "code",
   "execution_count": 15,
   "id": "4eede0dc",
   "metadata": {},
   "outputs": [],
   "source": [
    "def text_process(value):\n",
    "    nopunc=[char for char in value if char not in string.punctuation] #Removes punctuation\n",
    "    nopunc=''.join(nopunc)\n",
    "    return [word for word in nopunc.split() if word.lower() not in stopwords.words('english')]  #Removes stopwords"
   ]
  },
  {
   "cell_type": "code",
   "execution_count": 16,
   "id": "c23ede8d",
   "metadata": {},
   "outputs": [
    {
     "data": {
      "text/plain": [
       "0    [official, site, good, hotel, accommodation, b...\n",
       "1    [expedia, hotel, book, sites, like, use, vacat...\n",
       "2    [tripadvisor, hotel, book, sites, like, previo...\n",
       "3    [cheap, flights, search, compare, flights, mom...\n",
       "4    [bot, create, free, account, create, free, acc...\n",
       "Name: cleaned_website_text, dtype: object"
      ]
     },
     "execution_count": 16,
     "metadata": {},
     "output_type": "execute_result"
    }
   ],
   "source": [
    "X.apply(text_process).head() #Getting the cleaned text (head of the dataframe displayed here)"
   ]
  },
  {
   "cell_type": "code",
   "execution_count": 17,
   "id": "c914d475",
   "metadata": {},
   "outputs": [],
   "source": [
    "from sklearn.feature_extraction.text import CountVectorizer \n",
    "X=CountVectorizer().fit_transform(X)"
   ]
  },
  {
   "cell_type": "code",
   "execution_count": 18,
   "id": "6e8eadaa",
   "metadata": {},
   "outputs": [],
   "source": [
    "from sklearn.feature_extraction.text import TfidfTransformer    \n",
    "X=TfidfTransformer().fit_transform(X)"
   ]
  },
  {
   "cell_type": "code",
   "execution_count": 20,
   "id": "af9b44d2",
   "metadata": {},
   "outputs": [],
   "source": [
    "#Naive Bayes Classifier\n",
    "from sklearn.model_selection import train_test_split\n",
    "X_train, X_test, y_train, y_test = train_test_split(X, y, test_size=0.3,random_state=101)"
   ]
  },
  {
   "cell_type": "code",
   "execution_count": 21,
   "id": "5e585e05",
   "metadata": {},
   "outputs": [],
   "source": [
    "from sklearn.naive_bayes import MultinomialNB"
   ]
  },
  {
   "cell_type": "code",
   "execution_count": 22,
   "id": "77378739",
   "metadata": {},
   "outputs": [],
   "source": [
    "website_class=MultinomialNB()"
   ]
  },
  {
   "cell_type": "code",
   "execution_count": 23,
   "id": "e817cb54",
   "metadata": {},
   "outputs": [
    {
     "data": {
      "text/html": [
       "<style>#sk-container-id-1 {color: black;background-color: white;}#sk-container-id-1 pre{padding: 0;}#sk-container-id-1 div.sk-toggleable {background-color: white;}#sk-container-id-1 label.sk-toggleable__label {cursor: pointer;display: block;width: 100%;margin-bottom: 0;padding: 0.3em;box-sizing: border-box;text-align: center;}#sk-container-id-1 label.sk-toggleable__label-arrow:before {content: \"▸\";float: left;margin-right: 0.25em;color: #696969;}#sk-container-id-1 label.sk-toggleable__label-arrow:hover:before {color: black;}#sk-container-id-1 div.sk-estimator:hover label.sk-toggleable__label-arrow:before {color: black;}#sk-container-id-1 div.sk-toggleable__content {max-height: 0;max-width: 0;overflow: hidden;text-align: left;background-color: #f0f8ff;}#sk-container-id-1 div.sk-toggleable__content pre {margin: 0.2em;color: black;border-radius: 0.25em;background-color: #f0f8ff;}#sk-container-id-1 input.sk-toggleable__control:checked~div.sk-toggleable__content {max-height: 200px;max-width: 100%;overflow: auto;}#sk-container-id-1 input.sk-toggleable__control:checked~label.sk-toggleable__label-arrow:before {content: \"▾\";}#sk-container-id-1 div.sk-estimator input.sk-toggleable__control:checked~label.sk-toggleable__label {background-color: #d4ebff;}#sk-container-id-1 div.sk-label input.sk-toggleable__control:checked~label.sk-toggleable__label {background-color: #d4ebff;}#sk-container-id-1 input.sk-hidden--visually {border: 0;clip: rect(1px 1px 1px 1px);clip: rect(1px, 1px, 1px, 1px);height: 1px;margin: -1px;overflow: hidden;padding: 0;position: absolute;width: 1px;}#sk-container-id-1 div.sk-estimator {font-family: monospace;background-color: #f0f8ff;border: 1px dotted black;border-radius: 0.25em;box-sizing: border-box;margin-bottom: 0.5em;}#sk-container-id-1 div.sk-estimator:hover {background-color: #d4ebff;}#sk-container-id-1 div.sk-parallel-item::after {content: \"\";width: 100%;border-bottom: 1px solid gray;flex-grow: 1;}#sk-container-id-1 div.sk-label:hover label.sk-toggleable__label {background-color: #d4ebff;}#sk-container-id-1 div.sk-serial::before {content: \"\";position: absolute;border-left: 1px solid gray;box-sizing: border-box;top: 0;bottom: 0;left: 50%;z-index: 0;}#sk-container-id-1 div.sk-serial {display: flex;flex-direction: column;align-items: center;background-color: white;padding-right: 0.2em;padding-left: 0.2em;position: relative;}#sk-container-id-1 div.sk-item {position: relative;z-index: 1;}#sk-container-id-1 div.sk-parallel {display: flex;align-items: stretch;justify-content: center;background-color: white;position: relative;}#sk-container-id-1 div.sk-item::before, #sk-container-id-1 div.sk-parallel-item::before {content: \"\";position: absolute;border-left: 1px solid gray;box-sizing: border-box;top: 0;bottom: 0;left: 50%;z-index: -1;}#sk-container-id-1 div.sk-parallel-item {display: flex;flex-direction: column;z-index: 1;position: relative;background-color: white;}#sk-container-id-1 div.sk-parallel-item:first-child::after {align-self: flex-end;width: 50%;}#sk-container-id-1 div.sk-parallel-item:last-child::after {align-self: flex-start;width: 50%;}#sk-container-id-1 div.sk-parallel-item:only-child::after {width: 0;}#sk-container-id-1 div.sk-dashed-wrapped {border: 1px dashed gray;margin: 0 0.4em 0.5em 0.4em;box-sizing: border-box;padding-bottom: 0.4em;background-color: white;}#sk-container-id-1 div.sk-label label {font-family: monospace;font-weight: bold;display: inline-block;line-height: 1.2em;}#sk-container-id-1 div.sk-label-container {text-align: center;}#sk-container-id-1 div.sk-container {/* jupyter's `normalize.less` sets `[hidden] { display: none; }` but bootstrap.min.css set `[hidden] { display: none !important; }` so we also need the `!important` here to be able to override the default hidden behavior on the sphinx rendered scikit-learn.org. See: https://github.com/scikit-learn/scikit-learn/issues/21755 */display: inline-block !important;position: relative;}#sk-container-id-1 div.sk-text-repr-fallback {display: none;}</style><div id=\"sk-container-id-1\" class=\"sk-top-container\"><div class=\"sk-text-repr-fallback\"><pre>MultinomialNB()</pre><b>In a Jupyter environment, please rerun this cell to show the HTML representation or trust the notebook. <br />On GitHub, the HTML representation is unable to render, please try loading this page with nbviewer.org.</b></div><div class=\"sk-container\" hidden><div class=\"sk-item\"><div class=\"sk-estimator sk-toggleable\"><input class=\"sk-toggleable__control sk-hidden--visually\" id=\"sk-estimator-id-1\" type=\"checkbox\" checked><label for=\"sk-estimator-id-1\" class=\"sk-toggleable__label sk-toggleable__label-arrow\">MultinomialNB</label><div class=\"sk-toggleable__content\"><pre>MultinomialNB()</pre></div></div></div></div></div>"
      ],
      "text/plain": [
       "MultinomialNB()"
      ]
     },
     "execution_count": 23,
     "metadata": {},
     "output_type": "execute_result"
    }
   ],
   "source": [
    "website_class.fit(X_train,y_train)"
   ]
  },
  {
   "cell_type": "code",
   "execution_count": 24,
   "id": "eeea1c64",
   "metadata": {},
   "outputs": [
    {
     "data": {
      "text/plain": [
       "array(['Food', 'Business/Corporate', 'News', 'Travel',\n",
       "       'Health and Fitness', 'Streaming Services',\n",
       "       'Social Networking and Messaging', 'E-Commerce', 'News',\n",
       "       'Education', 'E-Commerce', 'Business/Corporate', 'Education',\n",
       "       'Social Networking and Messaging', 'Business/Corporate', 'News',\n",
       "       'E-Commerce', 'Streaming Services', 'Food', 'Health and Fitness',\n",
       "       'Education', 'Photography', 'Food', 'Sports', 'Travel',\n",
       "       'Business/Corporate', 'Sports', 'News', 'E-Commerce',\n",
       "       'Photography', 'E-Commerce', 'Law and Government', 'Travel',\n",
       "       'Travel', 'Streaming Services', 'Health and Fitness', 'Sports',\n",
       "       'Education', 'Travel', 'Health and Fitness', 'Business/Corporate',\n",
       "       'Education', 'Photography', 'E-Commerce', 'Business/Corporate',\n",
       "       'Computers and Technology', 'Streaming Services',\n",
       "       'Business/Corporate', 'Education', 'News', 'Games', 'Games',\n",
       "       'E-Commerce', 'Travel', 'Travel', 'Streaming Services',\n",
       "       'Social Networking and Messaging', 'Business/Corporate',\n",
       "       'Health and Fitness', 'Business/Corporate', 'News', 'Travel',\n",
       "       'Streaming Services', 'Streaming Services', 'Streaming Services',\n",
       "       'Law and Government', 'Social Networking and Messaging',\n",
       "       'Streaming Services', 'Health and Fitness', 'Education',\n",
       "       'Social Networking and Messaging', 'Law and Government',\n",
       "       'Health and Fitness', 'Social Networking and Messaging',\n",
       "       'Streaming Services', 'Streaming Services', 'Sports',\n",
       "       'Health and Fitness', 'Travel', 'Travel', 'Photography',\n",
       "       'Law and Government', 'News', 'Education', 'News', 'Food',\n",
       "       'Business/Corporate', 'Business/Corporate', 'Food', 'Education',\n",
       "       'Games', 'News', 'News', 'Education', 'Health and Fitness',\n",
       "       'Sports', 'News', 'Travel', 'Travel', 'Computers and Technology',\n",
       "       'Sports', 'Games', 'News', 'News', 'Education',\n",
       "       'Business/Corporate', 'Streaming Services', 'Education',\n",
       "       'Health and Fitness', 'Education', 'Streaming Services', 'Travel',\n",
       "       'Business/Corporate', 'News', 'Photography', 'E-Commerce',\n",
       "       'E-Commerce', 'Streaming Services', 'Business/Corporate', 'News',\n",
       "       'Games', 'Streaming Services', 'Sports', 'Games',\n",
       "       'Health and Fitness', 'Computers and Technology', 'News', 'Food',\n",
       "       'Health and Fitness', 'Streaming Services', 'Travel',\n",
       "       'Streaming Services', 'Business/Corporate',\n",
       "       'Social Networking and Messaging', 'Health and Fitness', 'Sports',\n",
       "       'Photography', 'Business/Corporate', 'Travel',\n",
       "       'Law and Government', 'Business/Corporate', 'Streaming Services',\n",
       "       'Education', 'Education', 'Health and Fitness',\n",
       "       'Streaming Services', 'News', 'E-Commerce', 'Law and Government',\n",
       "       'News', 'Health and Fitness', 'Law and Government',\n",
       "       'Law and Government', 'Food', 'Travel', 'Food', 'Games',\n",
       "       'Education', 'Sports', 'Travel', 'Sports',\n",
       "       'Computers and Technology', 'News',\n",
       "       'Social Networking and Messaging',\n",
       "       'Social Networking and Messaging', 'Computers and Technology',\n",
       "       'Education', 'Law and Government', 'Computers and Technology',\n",
       "       'News', 'Games', 'Education', 'Sports', 'Photography',\n",
       "       'Computers and Technology', 'Health and Fitness', 'News', 'Food',\n",
       "       'Photography', 'News', 'E-Commerce', 'Photography', 'Food',\n",
       "       'Streaming Services', 'Photography', 'News', 'E-Commerce',\n",
       "       'Computers and Technology', 'Food', 'Photography',\n",
       "       'Business/Corporate', 'Streaming Services', 'Business/Corporate',\n",
       "       'Streaming Services', 'Social Networking and Messaging',\n",
       "       'Business/Corporate', 'News', 'News', 'News', 'Travel',\n",
       "       'Education', 'Computers and Technology', 'Travel',\n",
       "       'Health and Fitness', 'Sports', 'Law and Government', 'Education',\n",
       "       'Streaming Services', 'Sports', 'E-Commerce', 'Travel', 'Games',\n",
       "       'Health and Fitness', 'Law and Government', 'Education',\n",
       "       'Photography', 'Computers and Technology', 'Games', 'News',\n",
       "       'Photography', 'Computers and Technology', 'Business/Corporate',\n",
       "       'Law and Government', 'Computers and Technology', 'News',\n",
       "       'Business/Corporate', 'Sports', 'Streaming Services', 'News',\n",
       "       'Education', 'Games', 'Social Networking and Messaging', 'Games',\n",
       "       'Business/Corporate', 'E-Commerce', 'Business/Corporate',\n",
       "       'Health and Fitness', 'Sports', 'News', 'Streaming Services',\n",
       "       'E-Commerce', 'Photography', 'Education', 'Education', 'Sports',\n",
       "       'Business/Corporate', 'News', 'Sports', 'Health and Fitness',\n",
       "       'Food', 'Sports', 'E-Commerce', 'E-Commerce', 'Travel',\n",
       "       'Business/Corporate', 'Travel', 'Streaming Services',\n",
       "       'Health and Fitness', 'Health and Fitness', 'Education',\n",
       "       'Health and Fitness', 'Education', 'E-Commerce', 'Sports',\n",
       "       'Streaming Services', 'Business/Corporate',\n",
       "       'Computers and Technology', 'Streaming Services', 'Games', 'Games',\n",
       "       'Business/Corporate', 'News', 'Games', 'Streaming Services',\n",
       "       'Games', 'Streaming Services', 'Business/Corporate',\n",
       "       'Business/Corporate', 'Sports', 'Business/Corporate', 'News',\n",
       "       'Education', 'Social Networking and Messaging', 'Food',\n",
       "       'E-Commerce', 'Streaming Services', 'Photography', 'Travel',\n",
       "       'Streaming Services', 'Law and Government', 'E-Commerce',\n",
       "       'Streaming Services', 'Business/Corporate', 'Games', 'E-Commerce',\n",
       "       'Photography', 'Streaming Services', 'Games', 'News', 'Travel',\n",
       "       'Education', 'News', 'Education', 'Streaming Services', 'News',\n",
       "       'Social Networking and Messaging', 'Games', 'Law and Government',\n",
       "       'Games', 'Computers and Technology', 'Streaming Services',\n",
       "       'Health and Fitness', 'Food', 'E-Commerce', 'Business/Corporate',\n",
       "       'Sports', 'Social Networking and Messaging', 'Business/Corporate',\n",
       "       'News', 'Photography', 'Education', 'Travel', 'News',\n",
       "       'Law and Government', 'Computers and Technology', 'Photography',\n",
       "       'Social Networking and Messaging', 'Business/Corporate', 'News',\n",
       "       'Law and Government', 'Education', 'Food', 'Education',\n",
       "       'Health and Fitness', 'Business/Corporate', 'Education',\n",
       "       'Education', 'Travel', 'Health and Fitness', 'Food',\n",
       "       'Business/Corporate', 'Law and Government',\n",
       "       'Computers and Technology', 'Business/Corporate',\n",
       "       'Streaming Services', 'Education', 'E-Commerce',\n",
       "       'Business/Corporate', 'E-Commerce', 'Business/Corporate',\n",
       "       'Social Networking and Messaging', 'News', 'Games', 'Education',\n",
       "       'E-Commerce', 'Health and Fitness',\n",
       "       'Social Networking and Messaging',\n",
       "       'Social Networking and Messaging', 'Law and Government', 'Travel',\n",
       "       'Photography', 'E-Commerce', 'Sports', 'Food', 'Education',\n",
       "       'Travel', 'Social Networking and Messaging', 'Travel',\n",
       "       'Streaming Services', 'Sports', 'Food', 'Games', 'Education',\n",
       "       'Streaming Services', 'Business/Corporate',\n",
       "       'Social Networking and Messaging', 'Food', 'Health and Fitness',\n",
       "       'Food', 'News', 'Games', 'Photography', 'Games', 'News', 'Sports',\n",
       "       'Business/Corporate', 'Sports', 'Education', 'Health and Fitness',\n",
       "       'Games', 'Photography', 'Photography', 'Sports', 'Travel',\n",
       "       'Law and Government', 'News', 'News', 'Law and Government',\n",
       "       'Travel', 'E-Commerce', 'Education', 'Sports', 'Photography',\n",
       "       'Education', 'Education', 'Sports', 'Computers and Technology',\n",
       "       'Health and Fitness', 'Sports', 'Photography', 'Photography',\n",
       "       'Business/Corporate', 'Health and Fitness', 'Food', 'Games',\n",
       "       'Social Networking and Messaging', 'Computers and Technology',\n",
       "       'E-Commerce', 'Education', 'Law and Government',\n",
       "       'Law and Government', 'Computers and Technology', 'Games'],\n",
       "      dtype='<U31')"
      ]
     },
     "execution_count": 24,
     "metadata": {},
     "output_type": "execute_result"
    }
   ],
   "source": [
    "predictions=website_class.predict(X_test)\n",
    "predictions"
   ]
  },
  {
   "cell_type": "code",
   "execution_count": 29,
   "id": "1e295bdf",
   "metadata": {},
   "outputs": [
    {
     "name": "stdout",
     "output_type": "stream",
     "text": [
      "                                 precision    recall  f1-score   support\n",
      "\n",
      "                          Adult       0.00      0.00      0.00         0\n",
      "             Business/Corporate       0.97      0.67      0.79        43\n",
      "       Computers and Technology       0.64      0.84      0.73        19\n",
      "                     E-Commerce       0.89      0.89      0.89        28\n",
      "                      Education       0.97      0.88      0.93        43\n",
      "                           Food       0.95      1.00      0.98        21\n",
      "                         Forums       0.00      0.00      0.00         0\n",
      "                          Games       0.87      1.00      0.93        27\n",
      "             Health and Fitness       0.91      1.00      0.95        31\n",
      "             Law and Government       0.73      1.00      0.85        22\n",
      "                           News       0.93      0.64      0.76        44\n",
      "                    Photography       0.91      0.80      0.85        25\n",
      "Social Networking and Messaging       0.81      1.00      0.89        21\n",
      "                         Sports       0.96      0.93      0.95        29\n",
      "             Streaming Services       0.95      0.95      0.95        39\n",
      "                         Travel       1.00      0.94      0.97        31\n",
      "\n",
      "                       accuracy                           0.88       423\n",
      "                      macro avg       0.78      0.78      0.78       423\n",
      "                   weighted avg       0.91      0.88      0.89       423\n",
      "\n",
      "Accuracy Score: 0.8770685579196218\n"
     ]
    },
    {
     "name": "stderr",
     "output_type": "stream",
     "text": [
      "C:\\Users\\Widya HW\\anaconda3\\lib\\site-packages\\sklearn\\metrics\\_classification.py:1327: UndefinedMetricWarning: Recall and F-score are ill-defined and being set to 0.0 in labels with no true samples. Use `zero_division` parameter to control this behavior.\n",
      "  _warn_prf(average, modifier, msg_start, len(result))\n",
      "C:\\Users\\Widya HW\\anaconda3\\lib\\site-packages\\sklearn\\metrics\\_classification.py:1327: UndefinedMetricWarning: Recall and F-score are ill-defined and being set to 0.0 in labels with no true samples. Use `zero_division` parameter to control this behavior.\n",
      "  _warn_prf(average, modifier, msg_start, len(result))\n",
      "C:\\Users\\Widya HW\\anaconda3\\lib\\site-packages\\sklearn\\metrics\\_classification.py:1327: UndefinedMetricWarning: Recall and F-score are ill-defined and being set to 0.0 in labels with no true samples. Use `zero_division` parameter to control this behavior.\n",
      "  _warn_prf(average, modifier, msg_start, len(result))\n"
     ]
    }
   ],
   "source": [
    "print(classification_report(predictions,y_test))\n",
    "accuracy = accuracy_score(predictions, y_test)\n",
    "print(f'Accuracy Score: {accuracy}')"
   ]
  },
  {
   "cell_type": "code",
   "execution_count": 30,
   "id": "87946b4b",
   "metadata": {},
   "outputs": [
    {
     "data": {
      "text/plain": [
       "<AxesSubplot:>"
      ]
     },
     "execution_count": 30,
     "metadata": {},
     "output_type": "execute_result"
    },
    {
     "data": {
      "image/png": "[encoded data removed]",
      "text/plain": [
       "<Figure size 720x432 with 2 Axes>"
      ]
     },
     "metadata": {},
     "output_type": "display_data"
    }
   ],
   "source": [
    "plt.figure(figsize=(10,6))\n",
    "sns.heatmap(confusion_matrix(predictions,y_test),cmap='YlGn_r',annot=True)"
   ]
  },
  {
   "cell_type": "code",
   "execution_count": 32,
   "id": "f2a64f60",
   "metadata": {},
   "outputs": [
    {
     "data": {
      "text/html": [
       "<style>#sk-container-id-2 {color: black;background-color: white;}#sk-container-id-2 pre{padding: 0;}#sk-container-id-2 div.sk-toggleable {background-color: white;}#sk-container-id-2 label.sk-toggleable__label {cursor: pointer;display: block;width: 100%;margin-bottom: 0;padding: 0.3em;box-sizing: border-box;text-align: center;}#sk-container-id-2 label.sk-toggleable__label-arrow:before {content: \"▸\";float: left;margin-right: 0.25em;color: #696969;}#sk-container-id-2 label.sk-toggleable__label-arrow:hover:before {color: black;}#sk-container-id-2 div.sk-estimator:hover label.sk-toggleable__label-arrow:before {color: black;}#sk-container-id-2 div.sk-toggleable__content {max-height: 0;max-width: 0;overflow: hidden;text-align: left;background-color: #f0f8ff;}#sk-container-id-2 div.sk-toggleable__content pre {margin: 0.2em;color: black;border-radius: 0.25em;background-color: #f0f8ff;}#sk-container-id-2 input.sk-toggleable__control:checked~div.sk-toggleable__content {max-height: 200px;max-width: 100%;overflow: auto;}#sk-container-id-2 input.sk-toggleable__control:checked~label.sk-toggleable__label-arrow:before {content: \"▾\";}#sk-container-id-2 div.sk-estimator input.sk-toggleable__control:checked~label.sk-toggleable__label {background-color: #d4ebff;}#sk-container-id-2 div.sk-label input.sk-toggleable__control:checked~label.sk-toggleable__label {background-color: #d4ebff;}#sk-container-id-2 input.sk-hidden--visually {border: 0;clip: rect(1px 1px 1px 1px);clip: rect(1px, 1px, 1px, 1px);height: 1px;margin: -1px;overflow: hidden;padding: 0;position: absolute;width: 1px;}#sk-container-id-2 div.sk-estimator {font-family: monospace;background-color: #f0f8ff;border: 1px dotted black;border-radius: 0.25em;box-sizing: border-box;margin-bottom: 0.5em;}#sk-container-id-2 div.sk-estimator:hover {background-color: #d4ebff;}#sk-container-id-2 div.sk-parallel-item::after {content: \"\";width: 100%;border-bottom: 1px solid gray;flex-grow: 1;}#sk-container-id-2 div.sk-label:hover label.sk-toggleable__label {background-color: #d4ebff;}#sk-container-id-2 div.sk-serial::before {content: \"\";position: absolute;border-left: 1px solid gray;box-sizing: border-box;top: 0;bottom: 0;left: 50%;z-index: 0;}#sk-container-id-2 div.sk-serial {display: flex;flex-direction: column;align-items: center;background-color: white;padding-right: 0.2em;padding-left: 0.2em;position: relative;}#sk-container-id-2 div.sk-item {position: relative;z-index: 1;}#sk-container-id-2 div.sk-parallel {display: flex;align-items: stretch;justify-content: center;background-color: white;position: relative;}#sk-container-id-2 div.sk-item::before, #sk-container-id-2 div.sk-parallel-item::before {content: \"\";position: absolute;border-left: 1px solid gray;box-sizing: border-box;top: 0;bottom: 0;left: 50%;z-index: -1;}#sk-container-id-2 div.sk-parallel-item {display: flex;flex-direction: column;z-index: 1;position: relative;background-color: white;}#sk-container-id-2 div.sk-parallel-item:first-child::after {align-self: flex-end;width: 50%;}#sk-container-id-2 div.sk-parallel-item:last-child::after {align-self: flex-start;width: 50%;}#sk-container-id-2 div.sk-parallel-item:only-child::after {width: 0;}#sk-container-id-2 div.sk-dashed-wrapped {border: 1px dashed gray;margin: 0 0.4em 0.5em 0.4em;box-sizing: border-box;padding-bottom: 0.4em;background-color: white;}#sk-container-id-2 div.sk-label label {font-family: monospace;font-weight: bold;display: inline-block;line-height: 1.2em;}#sk-container-id-2 div.sk-label-container {text-align: center;}#sk-container-id-2 div.sk-container {/* jupyter's `normalize.less` sets `[hidden] { display: none; }` but bootstrap.min.css set `[hidden] { display: none !important; }` so we also need the `!important` here to be able to override the default hidden behavior on the sphinx rendered scikit-learn.org. See: https://github.com/scikit-learn/scikit-learn/issues/21755 */display: inline-block !important;position: relative;}#sk-container-id-2 div.sk-text-repr-fallback {display: none;}</style><div id=\"sk-container-id-2\" class=\"sk-top-container\"><div class=\"sk-text-repr-fallback\"><pre>SVC()</pre><b>In a Jupyter environment, please rerun this cell to show the HTML representation or trust the notebook. <br />On GitHub, the HTML representation is unable to render, please try loading this page with nbviewer.org.</b></div><div class=\"sk-container\" hidden><div class=\"sk-item\"><div class=\"sk-estimator sk-toggleable\"><input class=\"sk-toggleable__control sk-hidden--visually\" id=\"sk-estimator-id-2\" type=\"checkbox\" checked><label for=\"sk-estimator-id-2\" class=\"sk-toggleable__label sk-toggleable__label-arrow\">SVC</label><div class=\"sk-toggleable__content\"><pre>SVC()</pre></div></div></div></div></div>"
      ],
      "text/plain": [
       "SVC()"
      ]
     },
     "execution_count": 32,
     "metadata": {},
     "output_type": "execute_result"
    }
   ],
   "source": [
    "#svm\n",
    "from sklearn.svm import SVC\n",
    "svc=SVC()\n",
    "svc.fit(X_train,y_train)"
   ]
  },
  {
   "cell_type": "code",
   "execution_count": 33,
   "id": "cb8fb849",
   "metadata": {},
   "outputs": [
    {
     "data": {
      "text/plain": [
       "array(['Food', 'Business/Corporate', 'News', 'Travel',\n",
       "       'Health and Fitness', 'Streaming Services',\n",
       "       'Social Networking and Messaging', 'E-Commerce', 'News',\n",
       "       'Education', 'E-Commerce', 'Business/Corporate', 'Education',\n",
       "       'Social Networking and Messaging', 'Business/Corporate', 'News',\n",
       "       'E-Commerce', 'Streaming Services', 'Food', 'Health and Fitness',\n",
       "       'Education', 'Photography', 'Food', 'Sports', 'Travel',\n",
       "       'Business/Corporate', 'Sports', 'News', 'E-Commerce',\n",
       "       'Photography', 'E-Commerce', 'Law and Government', 'Travel',\n",
       "       'Travel', 'Streaming Services', 'Health and Fitness', 'Sports',\n",
       "       'Education', 'Travel', 'Health and Fitness', 'Business/Corporate',\n",
       "       'Education', 'Photography', 'E-Commerce', 'Business/Corporate',\n",
       "       'Computers and Technology', 'Streaming Services',\n",
       "       'Business/Corporate', 'Education', 'News', 'Games', 'Games',\n",
       "       'E-Commerce', 'Travel', 'Travel', 'Streaming Services',\n",
       "       'Social Networking and Messaging', 'Business/Corporate',\n",
       "       'Health and Fitness', 'Business/Corporate', 'News', 'Travel',\n",
       "       'Streaming Services', 'Streaming Services', 'Streaming Services',\n",
       "       'Law and Government', 'Social Networking and Messaging',\n",
       "       'Streaming Services', 'Health and Fitness', 'Education',\n",
       "       'Social Networking and Messaging', 'Law and Government',\n",
       "       'Health and Fitness', 'Social Networking and Messaging',\n",
       "       'Streaming Services', 'Streaming Services', 'Sports',\n",
       "       'Health and Fitness', 'Travel', 'Travel', 'Photography',\n",
       "       'Law and Government', 'News', 'Education', 'News', 'Food',\n",
       "       'Business/Corporate', 'Business/Corporate', 'Food', 'Education',\n",
       "       'Games', 'News', 'News', 'Education', 'Health and Fitness',\n",
       "       'Sports', 'News', 'Travel', 'Travel', 'Computers and Technology',\n",
       "       'Sports', 'Games', 'News', 'News', 'Education',\n",
       "       'Business/Corporate', 'Streaming Services', 'Education',\n",
       "       'Health and Fitness', 'Education', 'Streaming Services', 'Travel',\n",
       "       'Business/Corporate', 'News', 'Photography', 'E-Commerce',\n",
       "       'E-Commerce', 'Streaming Services', 'Business/Corporate', 'News',\n",
       "       'Games', 'Streaming Services', 'Sports', 'Games',\n",
       "       'Health and Fitness', 'Computers and Technology', 'News', 'Food',\n",
       "       'Health and Fitness', 'Streaming Services', 'Travel',\n",
       "       'Streaming Services', 'Business/Corporate',\n",
       "       'Social Networking and Messaging', 'Health and Fitness', 'Sports',\n",
       "       'Photography', 'Business/Corporate', 'Travel',\n",
       "       'Law and Government', 'Business/Corporate', 'Streaming Services',\n",
       "       'Education', 'Education', 'Health and Fitness',\n",
       "       'Streaming Services', 'News', 'E-Commerce', 'Law and Government',\n",
       "       'News', 'Health and Fitness', 'Law and Government',\n",
       "       'Law and Government', 'Food', 'Travel', 'Food', 'Games',\n",
       "       'Education', 'Sports', 'Travel', 'Sports',\n",
       "       'Computers and Technology', 'News',\n",
       "       'Social Networking and Messaging',\n",
       "       'Social Networking and Messaging', 'Computers and Technology',\n",
       "       'Education', 'Law and Government', 'Computers and Technology',\n",
       "       'News', 'Games', 'Education', 'Sports', 'Photography',\n",
       "       'Computers and Technology', 'Health and Fitness', 'News', 'Food',\n",
       "       'Photography', 'News', 'E-Commerce', 'Photography', 'Food',\n",
       "       'Streaming Services', 'Photography', 'News', 'E-Commerce',\n",
       "       'Computers and Technology', 'Food', 'Photography',\n",
       "       'Business/Corporate', 'Streaming Services', 'Business/Corporate',\n",
       "       'Streaming Services', 'Social Networking and Messaging',\n",
       "       'Business/Corporate', 'News', 'News', 'News', 'Travel',\n",
       "       'Education', 'Computers and Technology', 'Travel',\n",
       "       'Health and Fitness', 'Sports', 'Law and Government', 'Education',\n",
       "       'Streaming Services', 'Sports', 'E-Commerce', 'Travel', 'Games',\n",
       "       'Health and Fitness', 'Law and Government', 'Education',\n",
       "       'Photography', 'Computers and Technology', 'Games', 'News',\n",
       "       'Photography', 'Computers and Technology', 'Business/Corporate',\n",
       "       'Law and Government', 'Computers and Technology', 'News',\n",
       "       'Business/Corporate', 'Sports', 'Streaming Services', 'News',\n",
       "       'Education', 'Games', 'Social Networking and Messaging', 'Games',\n",
       "       'Business/Corporate', 'E-Commerce', 'Business/Corporate',\n",
       "       'Health and Fitness', 'Sports', 'News', 'Streaming Services',\n",
       "       'E-Commerce', 'Photography', 'Education', 'Education', 'Sports',\n",
       "       'Business/Corporate', 'News', 'Sports', 'Health and Fitness',\n",
       "       'Food', 'Sports', 'E-Commerce', 'E-Commerce', 'Travel',\n",
       "       'Business/Corporate', 'Travel', 'Streaming Services',\n",
       "       'Health and Fitness', 'Health and Fitness', 'Education',\n",
       "       'Health and Fitness', 'Education', 'E-Commerce', 'Sports',\n",
       "       'Streaming Services', 'Business/Corporate',\n",
       "       'Computers and Technology', 'Streaming Services', 'Games', 'Games',\n",
       "       'Business/Corporate', 'News', 'Games', 'Streaming Services',\n",
       "       'Games', 'Streaming Services', 'Business/Corporate',\n",
       "       'Business/Corporate', 'Sports', 'Business/Corporate', 'News',\n",
       "       'Education', 'Social Networking and Messaging', 'Food',\n",
       "       'E-Commerce', 'Streaming Services', 'Photography', 'Travel',\n",
       "       'Streaming Services', 'Law and Government', 'E-Commerce',\n",
       "       'Streaming Services', 'Business/Corporate', 'Games', 'E-Commerce',\n",
       "       'Photography', 'Streaming Services', 'Games', 'News', 'Travel',\n",
       "       'Education', 'News', 'Education', 'Streaming Services', 'News',\n",
       "       'Social Networking and Messaging', 'Games', 'Law and Government',\n",
       "       'Games', 'Computers and Technology', 'Streaming Services',\n",
       "       'Health and Fitness', 'Food', 'E-Commerce', 'Business/Corporate',\n",
       "       'Sports', 'Social Networking and Messaging', 'Business/Corporate',\n",
       "       'News', 'Photography', 'Education', 'Travel', 'News',\n",
       "       'Law and Government', 'Computers and Technology', 'Photography',\n",
       "       'Social Networking and Messaging', 'Business/Corporate', 'News',\n",
       "       'Law and Government', 'Education', 'Food', 'Education',\n",
       "       'Health and Fitness', 'Business/Corporate', 'Education',\n",
       "       'Education', 'Travel', 'Health and Fitness', 'Food',\n",
       "       'Business/Corporate', 'Law and Government',\n",
       "       'Computers and Technology', 'Business/Corporate',\n",
       "       'Streaming Services', 'Education', 'E-Commerce',\n",
       "       'Business/Corporate', 'E-Commerce', 'Business/Corporate',\n",
       "       'Social Networking and Messaging', 'News', 'Games', 'Education',\n",
       "       'E-Commerce', 'Health and Fitness',\n",
       "       'Social Networking and Messaging',\n",
       "       'Social Networking and Messaging', 'Law and Government', 'Travel',\n",
       "       'Photography', 'E-Commerce', 'Sports', 'Food', 'Education',\n",
       "       'Travel', 'Social Networking and Messaging', 'Travel',\n",
       "       'Streaming Services', 'Sports', 'Food', 'Games', 'Education',\n",
       "       'Streaming Services', 'Business/Corporate',\n",
       "       'Social Networking and Messaging', 'Food', 'Health and Fitness',\n",
       "       'Food', 'News', 'Games', 'Photography', 'Games', 'News', 'Sports',\n",
       "       'Business/Corporate', 'Sports', 'Education', 'Health and Fitness',\n",
       "       'Games', 'Photography', 'Photography', 'Sports', 'Travel',\n",
       "       'Law and Government', 'News', 'News', 'Law and Government',\n",
       "       'Travel', 'E-Commerce', 'Education', 'Sports', 'Photography',\n",
       "       'Education', 'Education', 'Sports', 'Computers and Technology',\n",
       "       'Health and Fitness', 'Sports', 'Photography', 'Photography',\n",
       "       'Business/Corporate', 'Health and Fitness', 'Food', 'Games',\n",
       "       'Social Networking and Messaging', 'Computers and Technology',\n",
       "       'E-Commerce', 'Education', 'Law and Government',\n",
       "       'Law and Government', 'Computers and Technology', 'Games'],\n",
       "      dtype='<U31')"
      ]
     },
     "execution_count": 33,
     "metadata": {},
     "output_type": "execute_result"
    }
   ],
   "source": [
    "predictions_svc=svc.predict(X_test)\n",
    "predictions"
   ]
  },
  {
   "cell_type": "code",
   "execution_count": 34,
   "id": "d4411a43",
   "metadata": {},
   "outputs": [
    {
     "name": "stdout",
     "output_type": "stream",
     "text": [
      "                                 precision    recall  f1-score   support\n",
      "\n",
      "                          Adult       0.33      1.00      0.50         1\n",
      "             Business/Corporate       0.97      0.37      0.54        78\n",
      "       Computers and Technology       0.84      0.88      0.86        24\n",
      "                     E-Commerce       0.89      0.93      0.91        27\n",
      "                      Education       0.95      0.93      0.94        40\n",
      "                           Food       0.73      1.00      0.84        16\n",
      "                         Forums       0.00      0.00      0.00         0\n",
      "                          Games       0.97      1.00      0.98        30\n",
      "             Health and Fitness       0.82      1.00      0.90        28\n",
      "             Law and Government       0.87      1.00      0.93        26\n",
      "                           News       0.87      0.93      0.90        28\n",
      "                    Photography       0.77      0.94      0.85        18\n",
      "Social Networking and Messaging       0.73      1.00      0.84        19\n",
      "                         Sports       0.93      1.00      0.96        26\n",
      "             Streaming Services       0.87      0.97      0.92        35\n",
      "                         Travel       0.90      0.96      0.93        27\n",
      "\n",
      "                       accuracy                           0.85       423\n",
      "                      macro avg       0.78      0.87      0.80       423\n",
      "                   weighted avg       0.89      0.85      0.84       423\n",
      "\n",
      "Accuracy Score: 0.8534278959810875\n"
     ]
    },
    {
     "name": "stderr",
     "output_type": "stream",
     "text": [
      "C:\\Users\\Widya HW\\anaconda3\\lib\\site-packages\\sklearn\\metrics\\_classification.py:1327: UndefinedMetricWarning: Recall and F-score are ill-defined and being set to 0.0 in labels with no true samples. Use `zero_division` parameter to control this behavior.\n",
      "  _warn_prf(average, modifier, msg_start, len(result))\n",
      "C:\\Users\\Widya HW\\anaconda3\\lib\\site-packages\\sklearn\\metrics\\_classification.py:1327: UndefinedMetricWarning: Recall and F-score are ill-defined and being set to 0.0 in labels with no true samples. Use `zero_division` parameter to control this behavior.\n",
      "  _warn_prf(average, modifier, msg_start, len(result))\n",
      "C:\\Users\\Widya HW\\anaconda3\\lib\\site-packages\\sklearn\\metrics\\_classification.py:1327: UndefinedMetricWarning: Recall and F-score are ill-defined and being set to 0.0 in labels with no true samples. Use `zero_division` parameter to control this behavior.\n",
      "  _warn_prf(average, modifier, msg_start, len(result))\n"
     ]
    }
   ],
   "source": [
    "print(classification_report(predictions_svc,y_test))\n",
    "accuracy = accuracy_score(predictions_svc, y_test)\n",
    "print(f'Accuracy Score: {accuracy}')"
   ]
  },
  {
   "cell_type": "code",
   "execution_count": 36,
   "id": "9050bb42",
   "metadata": {},
   "outputs": [
    {
     "data": {
      "text/plain": [
       "<AxesSubplot:>"
      ]
     },
     "execution_count": 36,
     "metadata": {},
     "output_type": "execute_result"
    },
    {
     "data": {
      "image/png": "[encoded data removed]",
      "text/plain": [
       "<Figure size 720x432 with 2 Axes>"
      ]
     },
     "metadata": {},
     "output_type": "display_data"
    }
   ],
   "source": [
    "plt.figure(figsize=(10,6))\n",
    "sns.heatmap(confusion_matrix(predictions_svc,y_test),cmap='YlOrBr',annot=True)"
   ]
  },
  {
   "cell_type": "code",
   "execution_count": null,
   "id": "c285375f",
   "metadata": {},
   "outputs": [],
   "source": []
  }
 ],
 "metadata": {
  "kernelspec": {
   "display_name": "Python 3 (ipykernel)",
   "language": "python",
   "name": "python3"
  },
  "language_info": {
   "codemirror_mode": {
    "name": "ipython",
    "version": 3
   },
   "file_extension": ".py",
   "mimetype": "text/x-python",
   "name": "python",
   "nbconvert_exporter": "python",
   "pygments_lexer": "ipython3",
   "version": "3.9.7"
  }
 },
 "nbformat": 4,
 "nbformat_minor": 5
}
